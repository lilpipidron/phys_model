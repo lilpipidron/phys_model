{
 "cells": [
  {
   "cell_type": "code",
   "execution_count": 1,
   "id": "7c922d32-9869-4464-ad2a-8e6f0e103f27",
   "metadata": {},
   "outputs": [
    {
     "data": {
      "text/plain": [
       "<Popen: returncode: None args: ['/home/vadim/PycharmProjects/pythonProject2/...>"
      ]
     },
     "execution_count": 1,
     "metadata": {},
     "output_type": "execute_result"
    }
   ],
   "source": [
    "from ase import Atoms\n",
    "from ase.visualize import view\n",
    "\n",
    "# Создание молекулы NaCl\n",
    "NaCl = Atoms('NaCl', positions=[(0, 0, 0), (0.5, 0.5, 0.5)])\n",
    "\n",
    "# Визуализация молекулы\n",
    "view(NaCl)"
   ]
  },
  {
   "cell_type": "code",
   "execution_count": null,
   "id": "e559933b-8cc5-4ee5-a255-78e4c44dd2a4",
   "metadata": {},
   "outputs": [],
   "source": []
  },
  {
   "cell_type": "code",
   "execution_count": null,
   "id": "43ef88d3-0bcf-4a91-8060-45c65102e6c1",
   "metadata": {},
   "outputs": [],
   "source": []
  }
 ],
 "metadata": {
  "kernelspec": {
   "display_name": "Python 3 (ipykernel)",
   "language": "python",
   "name": "python3"
  },
  "language_info": {
   "codemirror_mode": {
    "name": "ipython",
    "version": 3
   },
   "file_extension": ".py",
   "mimetype": "text/x-python",
   "name": "python",
   "nbconvert_exporter": "python",
   "pygments_lexer": "ipython3",
   "version": "3.11.6"
  }
 },
 "nbformat": 4,
 "nbformat_minor": 5
}
